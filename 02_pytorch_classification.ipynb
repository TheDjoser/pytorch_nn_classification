{
 "cells": [
  {
   "cell_type": "code",
   "execution_count": null,
   "id": "9f6d568b-5318-427a-82fa-0aaf3cc98ea2",
   "metadata": {},
   "outputs": [],
   "source": [
    "#This is the notebook which with I will create a pytorch classification model"
   ]
  }
 ],
 "metadata": {
  "kernelspec": {
   "display_name": "Python 3 (ipykernel)",
   "language": "python",
   "name": "python3"
  },
  "language_info": {
   "codemirror_mode": {
    "name": "ipython",
    "version": 3
   },
   "file_extension": ".py",
   "mimetype": "text/x-python",
   "name": "python",
   "nbconvert_exporter": "python",
   "pygments_lexer": "ipython3",
   "version": "3.11.4"
  }
 },
 "nbformat": 4,
 "nbformat_minor": 5
}
